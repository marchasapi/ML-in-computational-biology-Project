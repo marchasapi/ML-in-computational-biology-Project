{
 "cells": [
  {
   "cell_type": "markdown",
   "metadata": {},
   "source": [
    "### Imports"
   ]
  },
  {
   "cell_type": "code",
   "execution_count": 1,
   "metadata": {},
   "outputs": [],
   "source": [
    "import pandas as pd\n",
    "import matplotlib.pyplot as plt\n",
    "import seaborn as sns\n",
    "from sklearn.decomposition import PCA\n",
    "import sys\n",
    "import numpy as np\n",
    "import joblib\n",
    "\n",
    "from sklearn.model_selection import train_test_split\n",
    "from sklearn.preprocessing import LabelEncoder\n",
    "import tensorflow as tf\n",
    "from tensorflow.keras.models import Sequential\n",
    "from tensorflow.keras.layers import Dense, Dropout, Input\n",
    "from sklearn.preprocessing import LabelEncoder, StandardScaler\n",
    "from tensorflow.keras.utils import to_categorical\n",
    "from tensorflow.keras.optimizers import Adam\n",
    "from sklearn.metrics import classification_report\n"
   ]
  },
  {
   "cell_type": "markdown",
   "metadata": {},
   "source": [
    "### Configuration"
   ]
  },
  {
   "cell_type": "markdown",
   "metadata": {},
   "source": [
    "#### Constants"
   ]
  },
  {
   "cell_type": "code",
   "execution_count": 2,
   "metadata": {},
   "outputs": [],
   "source": [
    "SEED=42\n",
    "SOURCE_FILE = \"../data_preprocessed/everything40_cleaned_normalized_reduced.csv\"\n",
    "VERBOSE = True\n",
    "\n",
    "APPLY_SAMPLE_CUT_OFF = False\n",
    "LIMIT_SAMPLES = 50 # sample cells\n",
    "LIMIT_FEATURES = 500 # sample genes\n",
    "\n",
    "np.random.seed(42) "
   ]
  },
  {
   "cell_type": "markdown",
   "metadata": {},
   "source": [
    "### Load dataset"
   ]
  },
  {
   "cell_type": "code",
   "execution_count": 3,
   "metadata": {},
   "outputs": [
    {
     "name": "stdout",
     "output_type": "stream",
     "text": [
      "CPU times: total: 141 ms\n",
      "Wall time: 189 ms\n"
     ]
    }
   ],
   "source": [
    "%%time\n",
    "dataset = pd.read_csv(SOURCE_FILE,index_col = 0)\n",
    "\n",
    "if APPLY_SAMPLE_CUT_OFF:\n",
    "    print(\"Applying cut off: \", LIMIT_SAMPLES, LIMIT_FEATURES)\n",
    "    print(\"Before cut off: \", dataset.shape)\n",
    "    dataset = dataset.iloc[0:LIMIT_SAMPLES, dataset.shape[1]-LIMIT_FEATURES:]\n",
    "    print(\"After cut off: \", dataset.shape)\n",
    "\n",
    "genes = dataset.shape[1] - 1\n",
    "labels_count = dataset['Classification'].nunique()"
   ]
  },
  {
   "cell_type": "code",
   "execution_count": 4,
   "metadata": {},
   "outputs": [
    {
     "name": "stdout",
     "output_type": "stream",
     "text": [
      "Total samples:  4679\n",
      "Total genes  :  138\n",
      "Total classes:  75\n"
     ]
    }
   ],
   "source": [
    "print(\"Total samples: \", dataset.shape[0])\n",
    "print(\"Total genes  : \", dataset.shape[1] - 1)\n",
    "print(\"Total classes: \", labels_count)"
   ]
  },
  {
   "cell_type": "code",
   "execution_count": 5,
   "metadata": {},
   "outputs": [
    {
     "name": "stdout",
     "output_type": "stream",
     "text": [
      "(4679, 138)\n",
      "(4679,)\n"
     ]
    }
   ],
   "source": [
    "X = dataset.iloc[:, :-1]\n",
    "Y = dataset.iloc[:, -1]\n",
    "\n",
    "print(X.shape)\n",
    "print(Y.shape)"
   ]
  },
  {
   "cell_type": "markdown",
   "metadata": {},
   "source": [
    "### Label encoding"
   ]
  },
  {
   "cell_type": "code",
   "execution_count": 6,
   "metadata": {},
   "outputs": [
    {
     "data": {
      "text/plain": [
       "array(['Astro L1-2 FGFR3 GFAP', 'Astro L1-6 FGFR3 SLC14A1',\n",
       "       'Endo L2-6 NOSTRIN', 'Exc L2 LAMP5 LTK',\n",
       "       'Exc L2-3 LINC00507 FREM3', 'Exc L2-4 LINC00507 GLP2R',\n",
       "       'Exc L3-4 RORB CARM1P1', 'Exc L3-5 RORB COL22A1',\n",
       "       'Exc L3-5 RORB ESR1', 'Exc L3-5 RORB FILIP1L',\n",
       "       'Exc L3-5 RORB TWIST2', 'Exc L4-5 FEZF2 SCN4B',\n",
       "       'Exc L4-5 RORB DAPK2', 'Exc L4-5 RORB FOLH1B',\n",
       "       'Exc L4-6 FEZF2 IL26', 'Exc L4-6 RORB C1R', 'Exc L4-6 RORB SEMA3E',\n",
       "       'Exc L5-6 FEZF2 ABO', 'Exc L5-6 FEZF2 EFTUD1P1',\n",
       "       'Exc L5-6 RORB TTC12', 'Exc L5-6 SLC17A7 IL15',\n",
       "       'Exc L5-6 THEMIS C1QL3', 'Exc L5-6 THEMIS CRABP1',\n",
       "       'Exc L5-6 THEMIS DCSTAMP', 'Exc L5-6 THEMIS FGF10',\n",
       "       'Exc L6 FEZF2 OR2T8', 'Exc L6 FEZF2 SCUBE1', 'Inh L1 SST CHRNA4',\n",
       "       'Inh L1 SST NMBR', 'Inh L1-2 GAD1 MC4R', 'Inh L1-2 LAMP5 DBP',\n",
       "       'Inh L1-2 PAX6 CDH12', 'Inh L1-2 PAX6 TNFAIP8L3',\n",
       "       'Inh L1-2 SST BAGE2', 'Inh L1-2 VIP LBH', 'Inh L1-2 VIP PCDH20',\n",
       "       'Inh L1-2 VIP TSPAN12', 'Inh L1-3 PAX6 SYT6', 'Inh L1-3 SST CALB1',\n",
       "       'Inh L1-3 VIP ADAMTSL1', 'Inh L1-3 VIP CCDC184',\n",
       "       'Inh L1-3 VIP CHRM2', 'Inh L1-3 VIP GGH', 'Inh L1-4 LAMP5 LCP2',\n",
       "       'Inh L1-4 VIP CHRNA6', 'Inh L1-4 VIP OPRM1', 'Inh L1-4 VIP PENK',\n",
       "       'Inh L2-3 VIP CASC6', 'Inh L2-4 PVALB WFDC2', 'Inh L2-4 SST FRZB',\n",
       "       'Inh L2-4 VIP CBLN1', 'Inh L2-4 VIP SPAG17',\n",
       "       'Inh L2-5 PVALB SCUBE3', 'Inh L2-5 VIP SERPINF1',\n",
       "       'Inh L2-5 VIP TYR', 'Inh L2-6 LAMP5 CA1', 'Inh L2-6 VIP QPCT',\n",
       "       'Inh L3-5 SST ADGRG6', 'Inh L3-6 SST HPGD', 'Inh L3-6 SST NPY',\n",
       "       'Inh L3-6 VIP HS3ST3A1', 'Inh L4-5 PVALB MEPE',\n",
       "       'Inh L4-5 SST STK32A', 'Inh L4-6 PVALB SULF1',\n",
       "       'Inh L4-6 SST B3GAT2', 'Inh L4-6 SST GXYLT2',\n",
       "       'Inh L5-6 GAD1 GLP1R', 'Inh L5-6 PVALB LGR5',\n",
       "       'Inh L5-6 SST KLHDC8A', 'Inh L5-6 SST MIR548F2',\n",
       "       'Inh L5-6 SST NPM1P10', 'Inh L5-6 SST TH', 'Micro L1-3 TYROBP',\n",
       "       'OPC L1-6 PDGFRA', 'Oligo L1-6 OPALIN'], dtype=object)"
      ]
     },
     "execution_count": 6,
     "metadata": {},
     "output_type": "execute_result"
    }
   ],
   "source": [
    "label_encoder = LabelEncoder()\n",
    "y_encoded = label_encoder.fit_transform(Y) # labels to indices\n",
    "y_categorical = to_categorical(y_encoded, num_classes=labels_count) # indices to 1 hot vectors\n",
    "label_encoder.classes_"
   ]
  },
  {
   "cell_type": "markdown",
   "metadata": {},
   "source": [
    "### Create test, train splits datasets"
   ]
  },
  {
   "cell_type": "code",
   "execution_count": 7,
   "metadata": {},
   "outputs": [],
   "source": [
    "x_train, x_test, y_train, y_test = train_test_split(X, y_categorical, test_size=0.2, random_state=SEED)"
   ]
  },
  {
   "cell_type": "code",
   "execution_count": 8,
   "metadata": {},
   "outputs": [
    {
     "name": "stdout",
     "output_type": "stream",
     "text": [
      "Original dataset:  4679 cells with 138 genes per cell\n",
      "Training   with :  3743 cells with 138 genes per cell\n",
      "Validating with :  936 cells with 138 genes per cell\n"
     ]
    }
   ],
   "source": [
    "print(\"Original dataset: \", X.shape[0],\"cells with\", X.shape[1], \"genes per cell\")\n",
    "print(\"Training   with : \", x_train.shape[0],\"cells with\", x_train.shape[1], \"genes per cell\")\n",
    "print(\"Validating with : \", x_test.shape[0],\"cells with\", x_test.shape[1], \"genes per cell\")"
   ]
  },
  {
   "cell_type": "markdown",
   "metadata": {},
   "source": [
    "### Create the neural network"
   ]
  },
  {
   "cell_type": "code",
   "execution_count": 9,
   "metadata": {},
   "outputs": [],
   "source": [
    "def CreateNeuralNetwork(genes, classes, layers, neurons_per_layer, drop_out = 0.2, activ = \"relu\", learning_rate=0.001, verbose = False):\n",
    "    model = tf.keras.Sequential()   \n",
    "\n",
    "    model.add(Input(shape=(genes,))) \n",
    "\n",
    "    for i in range(layers):\n",
    "        model.add(Dense(neurons_per_layer, activation = activ))\n",
    "        model.add(Dropout(drop_out))\n",
    "\n",
    "    model.add(Dense(classes, activation='softmax'))\n",
    "\n",
    "    model.compile(loss='categorical_crossentropy', optimizer=Adam(learning_rate=learning_rate), metrics=[\"accuracy\"])\n",
    "\n",
    "    if verbose:\n",
    "        print(model.summary())\n",
    "\n",
    "    return model\n",
    "\n",
    "# epochs = 100\n",
    "# model = CreateNeuralNetwork(genes, labels_count, 3, 100, 0.2)\n",
    "# callback = tf.keras.callbacks.EarlyStopping(monitor='val_loss', min_delta=0, patience=5, verbose=0)\n",
    "# history = model.fit(x_train, y_train, epochs=epochs, validation_data=(x_test, y_test), callbacks=callback)\n",
    "# train_accuracy = history.history['accuracy'][-1]\n",
    "# val_accuracy = history.history['val_accuracy'][-1]\n",
    "# print(train_accuracy)\n",
    "# print(val_accuracy)\n",
    "# best_model = model\n"
   ]
  },
  {
   "cell_type": "markdown",
   "metadata": {},
   "source": [
    "### Hyperparameter tuning"
   ]
  },
  {
   "cell_type": "code",
   "execution_count": 10,
   "metadata": {},
   "outputs": [
    {
     "name": "stdout",
     "output_type": "stream",
     "text": [
      "Examining case:  0 3 100 0.1 relu 0.0001\n",
      "Epoch 1/100\n",
      "\u001b[1m117/117\u001b[0m \u001b[32m━━━━━━━━━━━━━━━━━━━━\u001b[0m\u001b[37m\u001b[0m \u001b[1m2s\u001b[0m 4ms/step - accuracy: 0.0618 - loss: 5.5085 - val_accuracy: 0.2521 - val_loss: 3.4299\n",
      "Epoch 2/100\n",
      "\u001b[1m117/117\u001b[0m \u001b[32m━━━━━━━━━━━━━━━━━━━━\u001b[0m\u001b[37m\u001b[0m \u001b[1m0s\u001b[0m 3ms/step - accuracy: 0.2370 - loss: 3.5604 - val_accuracy: 0.4850 - val_loss: 2.5424\n",
      "Epoch 3/100\n",
      "\u001b[1m117/117\u001b[0m \u001b[32m━━━━━━━━━━━━━━━━━━━━\u001b[0m\u001b[37m\u001b[0m \u001b[1m0s\u001b[0m 2ms/step - accuracy: 0.4087 - loss: 2.7594 - val_accuracy: 0.5876 - val_loss: 2.0222\n",
      "Epoch 4/100\n",
      "\u001b[1m117/117\u001b[0m \u001b[32m━━━━━━━━━━━━━━━━━━━━\u001b[0m\u001b[37m\u001b[0m \u001b[1m0s\u001b[0m 2ms/step - accuracy: 0.5150 - loss: 2.2525 - val_accuracy: 0.6538 - val_loss: 1.6534\n",
      "Epoch 5/100\n",
      "\u001b[1m117/117\u001b[0m \u001b[32m━━━━━━━━━━━━━━━━━━━━\u001b[0m\u001b[37m\u001b[0m \u001b[1m0s\u001b[0m 2ms/step - accuracy: 0.5781 - loss: 1.9142 - val_accuracy: 0.6880 - val_loss: 1.4055\n",
      "Epoch 6/100\n",
      "\u001b[1m117/117\u001b[0m \u001b[32m━━━━━━━━━━━━━━━━━━━━\u001b[0m\u001b[37m\u001b[0m \u001b[1m0s\u001b[0m 3ms/step - accuracy: 0.6240 - loss: 1.6548 - val_accuracy: 0.7276 - val_loss: 1.2157\n",
      "Epoch 7/100\n",
      "\u001b[1m117/117\u001b[0m \u001b[32m━━━━━━━━━━━━━━━━━━━━\u001b[0m\u001b[37m\u001b[0m \u001b[1m0s\u001b[0m 2ms/step - accuracy: 0.6672 - loss: 1.4348 - val_accuracy: 0.7511 - val_loss: 1.0688\n",
      "Epoch 8/100\n",
      "\u001b[1m117/117\u001b[0m \u001b[32m━━━━━━━━━━━━━━━━━━━━\u001b[0m\u001b[37m\u001b[0m \u001b[1m0s\u001b[0m 2ms/step - accuracy: 0.6984 - loss: 1.2549 - val_accuracy: 0.7714 - val_loss: 0.9500\n",
      "Epoch 9/100\n",
      "\u001b[1m117/117\u001b[0m \u001b[32m━━━━━━━━━━━━━━━━━━━━\u001b[0m\u001b[37m\u001b[0m \u001b[1m0s\u001b[0m 3ms/step - accuracy: 0.7211 - loss: 1.1604 - val_accuracy: 0.7874 - val_loss: 0.8534\n",
      "Epoch 10/100\n",
      "\u001b[1m117/117\u001b[0m \u001b[32m━━━━━━━━━━━━━━━━━━━━\u001b[0m\u001b[37m\u001b[0m \u001b[1m0s\u001b[0m 2ms/step - accuracy: 0.7478 - loss: 0.9972 - val_accuracy: 0.7927 - val_loss: 0.7699\n",
      "Epoch 11/100\n",
      "\u001b[1m117/117\u001b[0m \u001b[32m━━━━━━━━━━━━━━━━━━━━\u001b[0m\u001b[37m\u001b[0m \u001b[1m0s\u001b[0m 2ms/step - accuracy: 0.7632 - loss: 0.9025 - val_accuracy: 0.8002 - val_loss: 0.6981\n",
      "Epoch 12/100\n",
      "\u001b[1m117/117\u001b[0m \u001b[32m━━━━━━━━━━━━━━━━━━━━\u001b[0m\u001b[37m\u001b[0m \u001b[1m0s\u001b[0m 2ms/step - accuracy: 0.7699 - loss: 0.8375 - val_accuracy: 0.8120 - val_loss: 0.6392\n",
      "Epoch 13/100\n",
      "\u001b[1m117/117\u001b[0m \u001b[32m━━━━━━━━━━━━━━━━━━━━\u001b[0m\u001b[37m\u001b[0m \u001b[1m0s\u001b[0m 2ms/step - accuracy: 0.8092 - loss: 0.7213 - val_accuracy: 0.8248 - val_loss: 0.5849\n",
      "Epoch 14/100\n",
      "\u001b[1m117/117\u001b[0m \u001b[32m━━━━━━━━━━━━━━━━━━━━\u001b[0m\u001b[37m\u001b[0m \u001b[1m0s\u001b[0m 2ms/step - accuracy: 0.8108 - loss: 0.7058 - val_accuracy: 0.8301 - val_loss: 0.5458\n",
      "Epoch 15/100\n",
      "\u001b[1m117/117\u001b[0m \u001b[32m━━━━━━━━━━━━━━━━━━━━\u001b[0m\u001b[37m\u001b[0m \u001b[1m0s\u001b[0m 2ms/step - accuracy: 0.8196 - loss: 0.6520 - val_accuracy: 0.8462 - val_loss: 0.5070\n",
      "Epoch 16/100\n",
      "\u001b[1m117/117\u001b[0m \u001b[32m━━━━━━━━━━━━━━━━━━━━\u001b[0m\u001b[37m\u001b[0m \u001b[1m0s\u001b[0m 2ms/step - accuracy: 0.8262 - loss: 0.6225 - val_accuracy: 0.8494 - val_loss: 0.4735\n",
      "Epoch 17/100\n",
      "\u001b[1m117/117\u001b[0m \u001b[32m━━━━━━━━━━━━━━━━━━━━\u001b[0m\u001b[37m\u001b[0m \u001b[1m0s\u001b[0m 2ms/step - accuracy: 0.8392 - loss: 0.5728 - val_accuracy: 0.8568 - val_loss: 0.4461\n",
      "Epoch 18/100\n",
      "\u001b[1m117/117\u001b[0m \u001b[32m━━━━━━━━━━━━━━━━━━━━\u001b[0m\u001b[37m\u001b[0m \u001b[1m0s\u001b[0m 2ms/step - accuracy: 0.8484 - loss: 0.5155 - val_accuracy: 0.8590 - val_loss: 0.4198\n",
      "Epoch 19/100\n",
      "\u001b[1m117/117\u001b[0m \u001b[32m━━━━━━━━━━━━━━━━━━━━\u001b[0m\u001b[37m\u001b[0m \u001b[1m0s\u001b[0m 2ms/step - accuracy: 0.8554 - loss: 0.4953 - val_accuracy: 0.8707 - val_loss: 0.4005\n",
      "Epoch 20/100\n",
      "\u001b[1m117/117\u001b[0m \u001b[32m━━━━━━━━━━━━━━━━━━━━\u001b[0m\u001b[37m\u001b[0m \u001b[1m0s\u001b[0m 3ms/step - accuracy: 0.8524 - loss: 0.4696 - val_accuracy: 0.8729 - val_loss: 0.3823\n",
      "Epoch 21/100\n",
      "\u001b[1m117/117\u001b[0m \u001b[32m━━━━━━━━━━━━━━━━━━━━\u001b[0m\u001b[37m\u001b[0m \u001b[1m0s\u001b[0m 2ms/step - accuracy: 0.8539 - loss: 0.4583 - val_accuracy: 0.8697 - val_loss: 0.3734\n",
      "Epoch 22/100\n",
      "\u001b[1m117/117\u001b[0m \u001b[32m━━━━━━━━━━━━━━━━━━━━\u001b[0m\u001b[37m\u001b[0m \u001b[1m0s\u001b[0m 3ms/step - accuracy: 0.8404 - loss: 0.4928 - val_accuracy: 0.8739 - val_loss: 0.3600\n",
      "Epoch 23/100\n",
      "\u001b[1m117/117\u001b[0m \u001b[32m━━━━━━━━━━━━━━━━━━━━\u001b[0m\u001b[37m\u001b[0m \u001b[1m0s\u001b[0m 2ms/step - accuracy: 0.8681 - loss: 0.3987 - val_accuracy: 0.8750 - val_loss: 0.3502\n",
      "Epoch 24/100\n",
      "\u001b[1m117/117\u001b[0m \u001b[32m━━━━━━━━━━━━━━━━━━━━\u001b[0m\u001b[37m\u001b[0m \u001b[1m0s\u001b[0m 3ms/step - accuracy: 0.8859 - loss: 0.3858 - val_accuracy: 0.8803 - val_loss: 0.3369\n",
      "Epoch 25/100\n",
      "\u001b[1m117/117\u001b[0m \u001b[32m━━━━━━━━━━━━━━━━━━━━\u001b[0m\u001b[37m\u001b[0m \u001b[1m0s\u001b[0m 2ms/step - accuracy: 0.8823 - loss: 0.3738 - val_accuracy: 0.8803 - val_loss: 0.3287\n",
      "Epoch 26/100\n",
      "\u001b[1m117/117\u001b[0m \u001b[32m━━━━━━━━━━━━━━━━━━━━\u001b[0m\u001b[37m\u001b[0m \u001b[1m0s\u001b[0m 2ms/step - accuracy: 0.8852 - loss: 0.3563 - val_accuracy: 0.8868 - val_loss: 0.3188\n",
      "Epoch 27/100\n",
      "\u001b[1m117/117\u001b[0m \u001b[32m━━━━━━━━━━━━━━━━━━━━\u001b[0m\u001b[37m\u001b[0m \u001b[1m0s\u001b[0m 2ms/step - accuracy: 0.8987 - loss: 0.3229 - val_accuracy: 0.8889 - val_loss: 0.3119\n",
      "Epoch 28/100\n",
      "\u001b[1m117/117\u001b[0m \u001b[32m━━━━━━━━━━━━━━━━━━━━\u001b[0m\u001b[37m\u001b[0m \u001b[1m0s\u001b[0m 2ms/step - accuracy: 0.8913 - loss: 0.3258 - val_accuracy: 0.8878 - val_loss: 0.3081\n",
      "Epoch 29/100\n",
      "\u001b[1m117/117\u001b[0m \u001b[32m━━━━━━━━━━━━━━━━━━━━\u001b[0m\u001b[37m\u001b[0m \u001b[1m0s\u001b[0m 2ms/step - accuracy: 0.8957 - loss: 0.3128 - val_accuracy: 0.8889 - val_loss: 0.3052\n",
      "Epoch 30/100\n",
      "\u001b[1m117/117\u001b[0m \u001b[32m━━━━━━━━━━━━━━━━━━━━\u001b[0m\u001b[37m\u001b[0m \u001b[1m0s\u001b[0m 3ms/step - accuracy: 0.9069 - loss: 0.2833 - val_accuracy: 0.8942 - val_loss: 0.2952\n",
      "Epoch 31/100\n",
      "\u001b[1m117/117\u001b[0m \u001b[32m━━━━━━━━━━━━━━━━━━━━\u001b[0m\u001b[37m\u001b[0m \u001b[1m0s\u001b[0m 2ms/step - accuracy: 0.9116 - loss: 0.2689 - val_accuracy: 0.8942 - val_loss: 0.2910\n",
      "Epoch 32/100\n",
      "\u001b[1m117/117\u001b[0m \u001b[32m━━━━━━━━━━━━━━━━━━━━\u001b[0m\u001b[37m\u001b[0m \u001b[1m0s\u001b[0m 2ms/step - accuracy: 0.9138 - loss: 0.2666 - val_accuracy: 0.8900 - val_loss: 0.2889\n",
      "Epoch 33/100\n",
      "\u001b[1m117/117\u001b[0m \u001b[32m━━━━━━━━━━━━━━━━━━━━\u001b[0m\u001b[37m\u001b[0m \u001b[1m0s\u001b[0m 3ms/step - accuracy: 0.9059 - loss: 0.2720 - val_accuracy: 0.8942 - val_loss: 0.2790\n",
      "Epoch 34/100\n",
      "\u001b[1m117/117\u001b[0m \u001b[32m━━━━━━━━━━━━━━━━━━━━\u001b[0m\u001b[37m\u001b[0m \u001b[1m0s\u001b[0m 3ms/step - accuracy: 0.9156 - loss: 0.2473 - val_accuracy: 0.8964 - val_loss: 0.2752\n",
      "Epoch 35/100\n",
      "\u001b[1m117/117\u001b[0m \u001b[32m━━━━━━━━━━━━━━━━━━━━\u001b[0m\u001b[37m\u001b[0m \u001b[1m0s\u001b[0m 2ms/step - accuracy: 0.9230 - loss: 0.2309 - val_accuracy: 0.8900 - val_loss: 0.2744\n",
      "Epoch 36/100\n",
      "\u001b[1m117/117\u001b[0m \u001b[32m━━━━━━━━━━━━━━━━━━━━\u001b[0m\u001b[37m\u001b[0m \u001b[1m0s\u001b[0m 2ms/step - accuracy: 0.9224 - loss: 0.2315 - val_accuracy: 0.8964 - val_loss: 0.2730\n",
      "Epoch 37/100\n",
      "\u001b[1m117/117\u001b[0m \u001b[32m━━━━━━━━━━━━━━━━━━━━\u001b[0m\u001b[37m\u001b[0m \u001b[1m0s\u001b[0m 3ms/step - accuracy: 0.9212 - loss: 0.2363 - val_accuracy: 0.8932 - val_loss: 0.2726\n",
      "Epoch 38/100\n",
      "\u001b[1m117/117\u001b[0m \u001b[32m━━━━━━━━━━━━━━━━━━━━\u001b[0m\u001b[37m\u001b[0m \u001b[1m1s\u001b[0m 5ms/step - accuracy: 0.9273 - loss: 0.2136 - val_accuracy: 0.8964 - val_loss: 0.2659\n",
      "Epoch 39/100\n",
      "\u001b[1m117/117\u001b[0m \u001b[32m━━━━━━━━━━━━━━━━━━━━\u001b[0m\u001b[37m\u001b[0m \u001b[1m1s\u001b[0m 5ms/step - accuracy: 0.9386 - loss: 0.1985 - val_accuracy: 0.9028 - val_loss: 0.2677\n",
      "Epoch 40/100\n",
      "\u001b[1m117/117\u001b[0m \u001b[32m━━━━━━━━━━━━━━━━━━━━\u001b[0m\u001b[37m\u001b[0m \u001b[1m1s\u001b[0m 5ms/step - accuracy: 0.9271 - loss: 0.2071 - val_accuracy: 0.9028 - val_loss: 0.2652\n",
      "Epoch 41/100\n",
      "\u001b[1m117/117\u001b[0m \u001b[32m━━━━━━━━━━━━━━━━━━━━\u001b[0m\u001b[37m\u001b[0m \u001b[1m1s\u001b[0m 5ms/step - accuracy: 0.9444 - loss: 0.1758 - val_accuracy: 0.9006 - val_loss: 0.2662\n",
      "Epoch 42/100\n",
      "\u001b[1m117/117\u001b[0m \u001b[32m━━━━━━━━━━━━━━━━━━━━\u001b[0m\u001b[37m\u001b[0m \u001b[1m1s\u001b[0m 5ms/step - accuracy: 0.9414 - loss: 0.1859 - val_accuracy: 0.9017 - val_loss: 0.2576\n",
      "Epoch 43/100\n",
      "\u001b[1m117/117\u001b[0m \u001b[32m━━━━━━━━━━━━━━━━━━━━\u001b[0m\u001b[37m\u001b[0m \u001b[1m1s\u001b[0m 5ms/step - accuracy: 0.9434 - loss: 0.1750 - val_accuracy: 0.9071 - val_loss: 0.2536\n",
      "Epoch 44/100\n",
      "\u001b[1m117/117\u001b[0m \u001b[32m━━━━━━━━━━━━━━━━━━━━\u001b[0m\u001b[37m\u001b[0m \u001b[1m1s\u001b[0m 5ms/step - accuracy: 0.9462 - loss: 0.1680 - val_accuracy: 0.9049 - val_loss: 0.2574\n",
      "Epoch 45/100\n",
      "\u001b[1m117/117\u001b[0m \u001b[32m━━━━━━━━━━━━━━━━━━━━\u001b[0m\u001b[37m\u001b[0m \u001b[1m1s\u001b[0m 5ms/step - accuracy: 0.9448 - loss: 0.1597 - val_accuracy: 0.9060 - val_loss: 0.2540\n",
      "Epoch 46/100\n",
      "\u001b[1m117/117\u001b[0m \u001b[32m━━━━━━━━━━━━━━━━━━━━\u001b[0m\u001b[37m\u001b[0m \u001b[1m1s\u001b[0m 5ms/step - accuracy: 0.9414 - loss: 0.1739 - val_accuracy: 0.9071 - val_loss: 0.2568\n",
      "Epoch 47/100\n",
      "\u001b[1m117/117\u001b[0m \u001b[32m━━━━━━━━━━━━━━━━━━━━\u001b[0m\u001b[37m\u001b[0m \u001b[1m1s\u001b[0m 5ms/step - accuracy: 0.9516 - loss: 0.1541 - val_accuracy: 0.9038 - val_loss: 0.2551\n",
      "Epoch 48/100\n",
      "\u001b[1m117/117\u001b[0m \u001b[32m━━━━━━━━━━━━━━━━━━━━\u001b[0m\u001b[37m\u001b[0m \u001b[1m1s\u001b[0m 5ms/step - accuracy: 0.9459 - loss: 0.1491 - val_accuracy: 0.9092 - val_loss: 0.2519\n",
      "Epoch 49/100\n",
      "\u001b[1m117/117\u001b[0m \u001b[32m━━━━━━━━━━━━━━━━━━━━\u001b[0m\u001b[37m\u001b[0m \u001b[1m1s\u001b[0m 5ms/step - accuracy: 0.9492 - loss: 0.1586 - val_accuracy: 0.9049 - val_loss: 0.2542\n",
      "Epoch 50/100\n",
      "\u001b[1m117/117\u001b[0m \u001b[32m━━━━━━━━━━━━━━━━━━━━\u001b[0m\u001b[37m\u001b[0m \u001b[1m1s\u001b[0m 5ms/step - accuracy: 0.9398 - loss: 0.1608 - val_accuracy: 0.9071 - val_loss: 0.2540\n",
      "Epoch 51/100\n",
      "\u001b[1m117/117\u001b[0m \u001b[32m━━━━━━━━━━━━━━━━━━━━\u001b[0m\u001b[37m\u001b[0m \u001b[1m1s\u001b[0m 5ms/step - accuracy: 0.9450 - loss: 0.1457 - val_accuracy: 0.9060 - val_loss: 0.2504\n",
      "Epoch 52/100\n",
      "\u001b[1m117/117\u001b[0m \u001b[32m━━━━━━━━━━━━━━━━━━━━\u001b[0m\u001b[37m\u001b[0m \u001b[1m1s\u001b[0m 5ms/step - accuracy: 0.9513 - loss: 0.1354 - val_accuracy: 0.9092 - val_loss: 0.2514\n",
      "Epoch 53/100\n",
      "\u001b[1m117/117\u001b[0m \u001b[32m━━━━━━━━━━━━━━━━━━━━\u001b[0m\u001b[37m\u001b[0m \u001b[1m1s\u001b[0m 5ms/step - accuracy: 0.9530 - loss: 0.1360 - val_accuracy: 0.9103 - val_loss: 0.2424\n",
      "Epoch 54/100\n",
      "\u001b[1m117/117\u001b[0m \u001b[32m━━━━━━━━━━━━━━━━━━━━\u001b[0m\u001b[37m\u001b[0m \u001b[1m1s\u001b[0m 5ms/step - accuracy: 0.9530 - loss: 0.1308 - val_accuracy: 0.9103 - val_loss: 0.2460\n",
      "Epoch 55/100\n",
      "\u001b[1m117/117\u001b[0m \u001b[32m━━━━━━━━━━━━━━━━━━━━\u001b[0m\u001b[37m\u001b[0m \u001b[1m1s\u001b[0m 5ms/step - accuracy: 0.9527 - loss: 0.1405 - val_accuracy: 0.9092 - val_loss: 0.2421\n",
      "Epoch 56/100\n",
      "\u001b[1m117/117\u001b[0m \u001b[32m━━━━━━━━━━━━━━━━━━━━\u001b[0m\u001b[37m\u001b[0m \u001b[1m1s\u001b[0m 4ms/step - accuracy: 0.9606 - loss: 0.1173 - val_accuracy: 0.9156 - val_loss: 0.2403\n",
      "Epoch 57/100\n",
      "\u001b[1m117/117\u001b[0m \u001b[32m━━━━━━━━━━━━━━━━━━━━\u001b[0m\u001b[37m\u001b[0m \u001b[1m1s\u001b[0m 4ms/step - accuracy: 0.9559 - loss: 0.1300 - val_accuracy: 0.9124 - val_loss: 0.2386\n",
      "Epoch 58/100\n",
      "\u001b[1m117/117\u001b[0m \u001b[32m━━━━━━━━━━━━━━━━━━━━\u001b[0m\u001b[37m\u001b[0m \u001b[1m1s\u001b[0m 5ms/step - accuracy: 0.9632 - loss: 0.1147 - val_accuracy: 0.9156 - val_loss: 0.2423\n",
      "Epoch 59/100\n",
      "\u001b[1m117/117\u001b[0m \u001b[32m━━━━━━━━━━━━━━━━━━━━\u001b[0m\u001b[37m\u001b[0m \u001b[1m0s\u001b[0m 4ms/step - accuracy: 0.9644 - loss: 0.1088 - val_accuracy: 0.9124 - val_loss: 0.2473\n",
      "Epoch 60/100\n",
      "\u001b[1m117/117\u001b[0m \u001b[32m━━━━━━━━━━━━━━━━━━━━\u001b[0m\u001b[37m\u001b[0m \u001b[1m0s\u001b[0m 4ms/step - accuracy: 0.9572 - loss: 0.1143 - val_accuracy: 0.9145 - val_loss: 0.2398\n",
      "Epoch 61/100\n",
      "\u001b[1m117/117\u001b[0m \u001b[32m━━━━━━━━━━━━━━━━━━━━\u001b[0m\u001b[37m\u001b[0m \u001b[1m1s\u001b[0m 4ms/step - accuracy: 0.9615 - loss: 0.1109 - val_accuracy: 0.9071 - val_loss: 0.2434\n",
      "Epoch 62/100\n",
      "\u001b[1m117/117\u001b[0m \u001b[32m━━━━━━━━━━━━━━━━━━━━\u001b[0m\u001b[37m\u001b[0m \u001b[1m1s\u001b[0m 4ms/step - accuracy: 0.9643 - loss: 0.1012 - val_accuracy: 0.9156 - val_loss: 0.2445\n",
      "Examining case:  1 3 100 0.1 sigmoid 0.0001\n",
      "Epoch 1/100\n",
      "\u001b[1m117/117\u001b[0m \u001b[32m━━━━━━━━━━━━━━━━━━━━\u001b[0m\u001b[37m\u001b[0m \u001b[1m3s\u001b[0m 7ms/step - accuracy: 0.0495 - loss: 4.2375 - val_accuracy: 0.1335 - val_loss: 3.8498\n",
      "Epoch 2/100\n",
      "\u001b[1m117/117\u001b[0m \u001b[32m━━━━━━━━━━━━━━━━━━━━\u001b[0m\u001b[37m\u001b[0m \u001b[1m1s\u001b[0m 5ms/step - accuracy: 0.1490 - loss: 3.7675 - val_accuracy: 0.1335 - val_loss: 3.6081\n",
      "Epoch 3/100\n",
      "\u001b[1m117/117\u001b[0m \u001b[32m━━━━━━━━━━━━━━━━━━━━\u001b[0m\u001b[37m\u001b[0m \u001b[1m1s\u001b[0m 5ms/step - accuracy: 0.1468 - loss: 3.5729 - val_accuracy: 0.1335 - val_loss: 3.4962\n",
      "Epoch 4/100\n",
      "\u001b[1m117/117\u001b[0m \u001b[32m━━━━━━━━━━━━━━━━━━━━\u001b[0m\u001b[37m\u001b[0m \u001b[1m1s\u001b[0m 4ms/step - accuracy: 0.1622 - loss: 3.4587 - val_accuracy: 0.1335 - val_loss: 3.4299\n",
      "Epoch 5/100\n",
      "\u001b[1m117/117\u001b[0m \u001b[32m━━━━━━━━━━━━━━━━━━━━\u001b[0m\u001b[37m\u001b[0m \u001b[1m1s\u001b[0m 4ms/step - accuracy: 0.1701 - loss: 3.4034 - val_accuracy: 0.1335 - val_loss: 3.3738\n",
      "Examining case:  2 3 200 0.1 relu 0.0001\n",
      "Epoch 1/100\n",
      "\u001b[1m117/117\u001b[0m \u001b[32m━━━━━━━━━━━━━━━━━━━━\u001b[0m\u001b[37m\u001b[0m \u001b[1m3s\u001b[0m 8ms/step - accuracy: 0.0876 - loss: 5.0633 - val_accuracy: 0.5011 - val_loss: 2.3744\n",
      "Epoch 2/100\n",
      "\u001b[1m117/117\u001b[0m \u001b[32m━━━━━━━━━━━━━━━━━━━━\u001b[0m\u001b[37m\u001b[0m \u001b[1m1s\u001b[0m 6ms/step - accuracy: 0.4689 - loss: 2.3751 - val_accuracy: 0.6763 - val_loss: 1.5150\n",
      "Epoch 3/100\n",
      "\u001b[1m117/117\u001b[0m \u001b[32m━━━━━━━━━━━━━━━━━━━━\u001b[0m\u001b[37m\u001b[0m \u001b[1m1s\u001b[0m 4ms/step - accuracy: 0.6409 - loss: 1.6386 - val_accuracy: 0.7404 - val_loss: 1.0915\n",
      "Epoch 4/100\n",
      "\u001b[1m117/117\u001b[0m \u001b[32m━━━━━━━━━━━━━━━━━━━━\u001b[0m\u001b[37m\u001b[0m \u001b[1m1s\u001b[0m 5ms/step - accuracy: 0.7193 - loss: 1.2011 - val_accuracy: 0.7831 - val_loss: 0.8536\n",
      "Epoch 5/100\n",
      "\u001b[1m117/117\u001b[0m \u001b[32m━━━━━━━━━━━━━━━━━━━━\u001b[0m\u001b[37m\u001b[0m \u001b[1m1s\u001b[0m 5ms/step - accuracy: 0.7685 - loss: 0.9352 - val_accuracy: 0.8152 - val_loss: 0.7052\n",
      "Examining case:  3 3 200 0.1 sigmoid 0.0001\n",
      "Epoch 1/100\n",
      "\u001b[1m117/117\u001b[0m \u001b[32m━━━━━━━━━━━━━━━━━━━━\u001b[0m\u001b[37m\u001b[0m \u001b[1m3s\u001b[0m 5ms/step - accuracy: 0.0910 - loss: 4.1012 - val_accuracy: 0.1635 - val_loss: 3.5653\n",
      "Epoch 2/100\n",
      "\u001b[1m117/117\u001b[0m \u001b[32m━━━━━━━━━━━━━━━━━━━━\u001b[0m\u001b[37m\u001b[0m \u001b[1m0s\u001b[0m 3ms/step - accuracy: 0.1742 - loss: 3.5386 - val_accuracy: 0.1335 - val_loss: 3.4092\n",
      "Epoch 3/100\n",
      "\u001b[1m117/117\u001b[0m \u001b[32m━━━━━━━━━━━━━━━━━━━━\u001b[0m\u001b[37m\u001b[0m \u001b[1m0s\u001b[0m 3ms/step - accuracy: 0.1941 - loss: 3.3534 - val_accuracy: 0.2126 - val_loss: 3.2895\n",
      "Epoch 4/100\n",
      "\u001b[1m117/117\u001b[0m \u001b[32m━━━━━━━━━━━━━━━━━━━━\u001b[0m\u001b[37m\u001b[0m \u001b[1m0s\u001b[0m 3ms/step - accuracy: 0.2341 - loss: 3.2773 - val_accuracy: 0.2628 - val_loss: 3.1353\n",
      "Epoch 5/100\n",
      "\u001b[1m117/117\u001b[0m \u001b[32m━━━━━━━━━━━━━━━━━━━━\u001b[0m\u001b[37m\u001b[0m \u001b[1m0s\u001b[0m 3ms/step - accuracy: 0.2983 - loss: 3.1101 - val_accuracy: 0.3280 - val_loss: 2.9434\n",
      "Examining case:  4 3 300 0.1 relu 0.0001\n",
      "Epoch 1/100\n",
      "\u001b[1m117/117\u001b[0m \u001b[32m━━━━━━━━━━━━━━━━━━━━\u001b[0m\u001b[37m\u001b[0m \u001b[1m2s\u001b[0m 5ms/step - accuracy: 0.2061 - loss: 4.0052 - val_accuracy: 0.6774 - val_loss: 1.6074\n",
      "Epoch 2/100\n",
      "\u001b[1m117/117\u001b[0m \u001b[32m━━━━━━━━━━━━━━━━━━━━\u001b[0m\u001b[37m\u001b[0m \u001b[1m0s\u001b[0m 4ms/step - accuracy: 0.6439 - loss: 1.6788 - val_accuracy: 0.7532 - val_loss: 1.0068\n",
      "Epoch 3/100\n",
      "\u001b[1m117/117\u001b[0m \u001b[32m━━━━━━━━━━━━━━━━━━━━\u001b[0m\u001b[37m\u001b[0m \u001b[1m0s\u001b[0m 4ms/step - accuracy: 0.7337 - loss: 1.1158 - val_accuracy: 0.8109 - val_loss: 0.7130\n",
      "Epoch 4/100\n",
      "\u001b[1m117/117\u001b[0m \u001b[32m━━━━━━━━━━━━━━━━━━━━\u001b[0m\u001b[37m\u001b[0m \u001b[1m1s\u001b[0m 5ms/step - accuracy: 0.8038 - loss: 0.7806 - val_accuracy: 0.8440 - val_loss: 0.5413\n",
      "Epoch 5/100\n",
      "\u001b[1m117/117\u001b[0m \u001b[32m━━━━━━━━━━━━━━━━━━━━\u001b[0m\u001b[37m\u001b[0m \u001b[1m0s\u001b[0m 4ms/step - accuracy: 0.8368 - loss: 0.5904 - val_accuracy: 0.8536 - val_loss: 0.4514\n",
      "Examining case:  5 3 300 0.1 sigmoid 0.0001\n",
      "Epoch 1/100\n",
      "\u001b[1m117/117\u001b[0m \u001b[32m━━━━━━━━━━━━━━━━━━━━\u001b[0m\u001b[37m\u001b[0m \u001b[1m2s\u001b[0m 5ms/step - accuracy: 0.0846 - loss: 3.9678 - val_accuracy: 0.1335 - val_loss: 3.4405\n",
      "Epoch 2/100\n",
      "\u001b[1m117/117\u001b[0m \u001b[32m━━━━━━━━━━━━━━━━━━━━\u001b[0m\u001b[37m\u001b[0m \u001b[1m0s\u001b[0m 4ms/step - accuracy: 0.1699 - loss: 3.3793 - val_accuracy: 0.1966 - val_loss: 3.2413\n",
      "Epoch 3/100\n",
      "\u001b[1m117/117\u001b[0m \u001b[32m━━━━━━━━━━━━━━━━━━━━\u001b[0m\u001b[37m\u001b[0m \u001b[1m1s\u001b[0m 4ms/step - accuracy: 0.2352 - loss: 3.1773 - val_accuracy: 0.2906 - val_loss: 2.9886\n",
      "Epoch 4/100\n",
      "\u001b[1m117/117\u001b[0m \u001b[32m━━━━━━━━━━━━━━━━━━━━\u001b[0m\u001b[37m\u001b[0m \u001b[1m0s\u001b[0m 4ms/step - accuracy: 0.3038 - loss: 2.9280 - val_accuracy: 0.3697 - val_loss: 2.7306\n",
      "Epoch 5/100\n",
      "\u001b[1m117/117\u001b[0m \u001b[32m━━━━━━━━━━━━━━━━━━━━\u001b[0m\u001b[37m\u001b[0m \u001b[1m0s\u001b[0m 4ms/step - accuracy: 0.3813 - loss: 2.6934 - val_accuracy: 0.4188 - val_loss: 2.4949\n",
      "Examining case:  6 6 100 0.1 relu 0.0001\n",
      "Epoch 1/100\n",
      "\u001b[1m117/117\u001b[0m \u001b[32m━━━━━━━━━━━━━━━━━━━━\u001b[0m\u001b[37m\u001b[0m \u001b[1m3s\u001b[0m 5ms/step - accuracy: 0.0535 - loss: 4.3559 - val_accuracy: 0.2158 - val_loss: 3.6589\n",
      "Epoch 2/100\n",
      "\u001b[1m117/117\u001b[0m \u001b[32m━━━━━━━━━━━━━━━━━━━━\u001b[0m\u001b[37m\u001b[0m \u001b[1m0s\u001b[0m 3ms/step - accuracy: 0.2057 - loss: 3.5676 - val_accuracy: 0.3504 - val_loss: 2.8597\n",
      "Epoch 3/100\n",
      "\u001b[1m117/117\u001b[0m \u001b[32m━━━━━━━━━━━━━━━━━━━━\u001b[0m\u001b[37m\u001b[0m \u001b[1m0s\u001b[0m 3ms/step - accuracy: 0.2892 - loss: 3.0187 - val_accuracy: 0.4573 - val_loss: 2.3724\n",
      "Epoch 4/100\n",
      "\u001b[1m117/117\u001b[0m \u001b[32m━━━━━━━━━━━━━━━━━━━━\u001b[0m\u001b[37m\u001b[0m \u001b[1m0s\u001b[0m 3ms/step - accuracy: 0.3909 - loss: 2.5324 - val_accuracy: 0.5684 - val_loss: 1.9701\n",
      "Epoch 5/100\n",
      "\u001b[1m117/117\u001b[0m \u001b[32m━━━━━━━━━━━━━━━━━━━━\u001b[0m\u001b[37m\u001b[0m \u001b[1m0s\u001b[0m 3ms/step - accuracy: 0.4699 - loss: 2.2901 - val_accuracy: 0.6197 - val_loss: 1.6724\n",
      "Examining case:  7 6 100 0.1 sigmoid 0.0001\n",
      "Epoch 1/100\n",
      "\u001b[1m117/117\u001b[0m \u001b[32m━━━━━━━━━━━━━━━━━━━━\u001b[0m\u001b[37m\u001b[0m \u001b[1m3s\u001b[0m 5ms/step - accuracy: 0.0137 - loss: 4.2867 - val_accuracy: 0.1335 - val_loss: 3.8884\n",
      "Epoch 2/100\n",
      "\u001b[1m117/117\u001b[0m \u001b[32m━━━━━━━━━━━━━━━━━━━━\u001b[0m\u001b[37m\u001b[0m \u001b[1m0s\u001b[0m 3ms/step - accuracy: 0.1304 - loss: 3.8121 - val_accuracy: 0.1335 - val_loss: 3.6274\n",
      "Epoch 3/100\n",
      "\u001b[1m117/117\u001b[0m \u001b[32m━━━━━━━━━━━━━━━━━━━━\u001b[0m\u001b[37m\u001b[0m \u001b[1m0s\u001b[0m 3ms/step - accuracy: 0.1515 - loss: 3.6236 - val_accuracy: 0.1335 - val_loss: 3.5458\n",
      "Epoch 4/100\n",
      "\u001b[1m117/117\u001b[0m \u001b[32m━━━━━━━━━━━━━━━━━━━━\u001b[0m\u001b[37m\u001b[0m \u001b[1m0s\u001b[0m 3ms/step - accuracy: 0.1462 - loss: 3.5599 - val_accuracy: 0.1335 - val_loss: 3.5225\n",
      "Epoch 5/100\n",
      "\u001b[1m117/117\u001b[0m \u001b[32m━━━━━━━━━━━━━━━━━━━━\u001b[0m\u001b[37m\u001b[0m \u001b[1m0s\u001b[0m 3ms/step - accuracy: 0.1440 - loss: 3.5366 - val_accuracy: 0.1335 - val_loss: 3.5149\n",
      "Examining case:  8 6 200 0.1 relu 0.0001\n",
      "Epoch 1/100\n",
      "\u001b[1m117/117\u001b[0m \u001b[32m━━━━━━━━━━━━━━━━━━━━\u001b[0m\u001b[37m\u001b[0m \u001b[1m3s\u001b[0m 6ms/step - accuracy: 0.0867 - loss: 4.2004 - val_accuracy: 0.4177 - val_loss: 2.6757\n",
      "Epoch 2/100\n",
      "\u001b[1m117/117\u001b[0m \u001b[32m━━━━━━━━━━━━━━━━━━━━\u001b[0m\u001b[37m\u001b[0m \u001b[1m0s\u001b[0m 4ms/step - accuracy: 0.4071 - loss: 2.6785 - val_accuracy: 0.6357 - val_loss: 1.7132\n",
      "Epoch 3/100\n",
      "\u001b[1m117/117\u001b[0m \u001b[32m━━━━━━━━━━━━━━━━━━━━\u001b[0m\u001b[37m\u001b[0m \u001b[1m1s\u001b[0m 4ms/step - accuracy: 0.5781 - loss: 1.8864 - val_accuracy: 0.7094 - val_loss: 1.2399\n",
      "Epoch 4/100\n",
      "\u001b[1m117/117\u001b[0m \u001b[32m━━━━━━━━━━━━━━━━━━━━\u001b[0m\u001b[37m\u001b[0m \u001b[1m1s\u001b[0m 5ms/step - accuracy: 0.6514 - loss: 1.4574 - val_accuracy: 0.7415 - val_loss: 1.0122\n",
      "Epoch 5/100\n",
      "\u001b[1m117/117\u001b[0m \u001b[32m━━━━━━━━━━━━━━━━━━━━\u001b[0m\u001b[37m\u001b[0m \u001b[1m1s\u001b[0m 5ms/step - accuracy: 0.7063 - loss: 1.1737 - val_accuracy: 0.7746 - val_loss: 0.8410\n",
      "Examining case:  9 6 200 0.1 sigmoid 0.0001\n",
      "Epoch 1/100\n",
      "\u001b[1m117/117\u001b[0m \u001b[32m━━━━━━━━━━━━━━━━━━━━\u001b[0m\u001b[37m\u001b[0m \u001b[1m3s\u001b[0m 6ms/step - accuracy: 0.0440 - loss: 4.0927 - val_accuracy: 0.1335 - val_loss: 3.5854\n",
      "Epoch 2/100\n",
      "\u001b[1m117/117\u001b[0m \u001b[32m━━━━━━━━━━━━━━━━━━━━\u001b[0m\u001b[37m\u001b[0m \u001b[1m1s\u001b[0m 4ms/step - accuracy: 0.1493 - loss: 3.5489 - val_accuracy: 0.1335 - val_loss: 3.5237\n",
      "Epoch 3/100\n",
      "\u001b[1m117/117\u001b[0m \u001b[32m━━━━━━━━━━━━━━━━━━━━\u001b[0m\u001b[37m\u001b[0m \u001b[1m1s\u001b[0m 4ms/step - accuracy: 0.1428 - loss: 3.5471 - val_accuracy: 0.1335 - val_loss: 3.5109\n",
      "Epoch 4/100\n",
      "\u001b[1m117/117\u001b[0m \u001b[32m━━━━━━━━━━━━━━━━━━━━\u001b[0m\u001b[37m\u001b[0m \u001b[1m1s\u001b[0m 7ms/step - accuracy: 0.1474 - loss: 3.5060 - val_accuracy: 0.1335 - val_loss: 3.5023\n",
      "Epoch 5/100\n",
      "\u001b[1m117/117\u001b[0m \u001b[32m━━━━━━━━━━━━━━━━━━━━\u001b[0m\u001b[37m\u001b[0m \u001b[1m1s\u001b[0m 8ms/step - accuracy: 0.1556 - loss: 3.5110 - val_accuracy: 0.1335 - val_loss: 3.4567\n",
      "Examining case:  10 6 300 0.1 relu 0.0001\n",
      "Epoch 1/100\n",
      "\u001b[1m117/117\u001b[0m \u001b[32m━━━━━━━━━━━━━━━━━━━━\u001b[0m\u001b[37m\u001b[0m \u001b[1m6s\u001b[0m 13ms/step - accuracy: 0.1466 - loss: 3.8416 - val_accuracy: 0.5994 - val_loss: 1.9663\n",
      "Epoch 2/100\n",
      "\u001b[1m117/117\u001b[0m \u001b[32m━━━━━━━━━━━━━━━━━━━━\u001b[0m\u001b[37m\u001b[0m \u001b[1m1s\u001b[0m 9ms/step - accuracy: 0.5670 - loss: 1.9648 - val_accuracy: 0.7222 - val_loss: 1.1520\n",
      "Epoch 3/100\n",
      "\u001b[1m117/117\u001b[0m \u001b[32m━━━━━━━━━━━━━━━━━━━━\u001b[0m\u001b[37m\u001b[0m \u001b[1m1s\u001b[0m 9ms/step - accuracy: 0.6938 - loss: 1.3024 - val_accuracy: 0.7831 - val_loss: 0.8070\n",
      "Epoch 4/100\n",
      "\u001b[1m117/117\u001b[0m \u001b[32m━━━━━━━━━━━━━━━━━━━━\u001b[0m\u001b[37m\u001b[0m \u001b[1m1s\u001b[0m 9ms/step - accuracy: 0.7535 - loss: 0.9919 - val_accuracy: 0.8130 - val_loss: 0.6553\n",
      "Epoch 5/100\n",
      "\u001b[1m117/117\u001b[0m \u001b[32m━━━━━━━━━━━━━━━━━━━━\u001b[0m\u001b[37m\u001b[0m \u001b[1m1s\u001b[0m 9ms/step - accuracy: 0.7993 - loss: 0.7671 - val_accuracy: 0.8248 - val_loss: 0.5474\n",
      "Examining case:  11 6 300 0.1 sigmoid 0.0001\n",
      "Epoch 1/100\n",
      "\u001b[1m117/117\u001b[0m \u001b[32m━━━━━━━━━━━━━━━━━━━━\u001b[0m\u001b[37m\u001b[0m \u001b[1m6s\u001b[0m 13ms/step - accuracy: 0.0700 - loss: 4.0507 - val_accuracy: 0.1335 - val_loss: 3.5444\n",
      "Epoch 2/100\n",
      "\u001b[1m117/117\u001b[0m \u001b[32m━━━━━━━━━━━━━━━━━━━━\u001b[0m\u001b[37m\u001b[0m \u001b[1m1s\u001b[0m 8ms/step - accuracy: 0.1432 - loss: 3.5299 - val_accuracy: 0.1335 - val_loss: 3.5148\n",
      "Epoch 3/100\n",
      "\u001b[1m117/117\u001b[0m \u001b[32m━━━━━━━━━━━━━━━━━━━━\u001b[0m\u001b[37m\u001b[0m \u001b[1m1s\u001b[0m 8ms/step - accuracy: 0.1371 - loss: 3.5278 - val_accuracy: 0.1335 - val_loss: 3.4929\n",
      "Epoch 4/100\n",
      "\u001b[1m117/117\u001b[0m \u001b[32m━━━━━━━━━━━━━━━━━━━━\u001b[0m\u001b[37m\u001b[0m \u001b[1m1s\u001b[0m 8ms/step - accuracy: 0.1520 - loss: 3.4533 - val_accuracy: 0.2276 - val_loss: 3.3642\n",
      "Epoch 5/100\n",
      "\u001b[1m117/117\u001b[0m \u001b[32m━━━━━━━━━━━━━━━━━━━━\u001b[0m\u001b[37m\u001b[0m \u001b[1m1s\u001b[0m 8ms/step - accuracy: 0.2223 - loss: 3.2686 - val_accuracy: 0.2276 - val_loss: 3.1184\n",
      "Examining case:  12 12 100 0.1 relu 0.0001\n",
      "Epoch 1/100\n",
      "\u001b[1m117/117\u001b[0m \u001b[32m━━━━━━━━━━━━━━━━━━━━\u001b[0m\u001b[37m\u001b[0m \u001b[1m8s\u001b[0m 12ms/step - accuracy: 0.0468 - loss: 4.2508 - val_accuracy: 0.1335 - val_loss: 3.5669\n",
      "Epoch 2/100\n",
      "\u001b[1m117/117\u001b[0m \u001b[32m━━━━━━━━━━━━━━━━━━━━\u001b[0m\u001b[37m\u001b[0m \u001b[1m1s\u001b[0m 8ms/step - accuracy: 0.1303 - loss: 3.5989 - val_accuracy: 0.1335 - val_loss: 3.1989\n",
      "Epoch 3/100\n",
      "\u001b[1m117/117\u001b[0m \u001b[32m━━━━━━━━━━━━━━━━━━━━\u001b[0m\u001b[37m\u001b[0m \u001b[1m1s\u001b[0m 9ms/step - accuracy: 0.1467 - loss: 3.2885 - val_accuracy: 0.2286 - val_loss: 3.0035\n",
      "Epoch 4/100\n",
      "\u001b[1m117/117\u001b[0m \u001b[32m━━━━━━━━━━━━━━━━━━━━\u001b[0m\u001b[37m\u001b[0m \u001b[1m1s\u001b[0m 8ms/step - accuracy: 0.1968 - loss: 3.1242 - val_accuracy: 0.2511 - val_loss: 2.7908\n",
      "Epoch 5/100\n",
      "\u001b[1m117/117\u001b[0m \u001b[32m━━━━━━━━━━━━━━━━━━━━\u001b[0m\u001b[37m\u001b[0m \u001b[1m1s\u001b[0m 10ms/step - accuracy: 0.2427 - loss: 2.9151 - val_accuracy: 0.3226 - val_loss: 2.5978\n",
      "Examining case:  13 12 100 0.1 sigmoid 0.0001\n",
      "Epoch 1/100\n",
      "\u001b[1m117/117\u001b[0m \u001b[32m━━━━━━━━━━━━━━━━━━━━\u001b[0m\u001b[37m\u001b[0m \u001b[1m8s\u001b[0m 13ms/step - accuracy: 0.0301 - loss: 4.3484 - val_accuracy: 0.0951 - val_loss: 3.9428\n",
      "Epoch 2/100\n",
      "\u001b[1m117/117\u001b[0m \u001b[32m━━━━━━━━━━━━━━━━━━━━\u001b[0m\u001b[37m\u001b[0m \u001b[1m1s\u001b[0m 9ms/step - accuracy: 0.0733 - loss: 3.9020 - val_accuracy: 0.0951 - val_loss: 3.6707\n",
      "Epoch 3/100\n",
      "\u001b[1m117/117\u001b[0m \u001b[32m━━━━━━━━━━━━━━━━━━━━\u001b[0m\u001b[37m\u001b[0m \u001b[1m1s\u001b[0m 10ms/step - accuracy: 0.0950 - loss: 3.6637 - val_accuracy: 0.1335 - val_loss: 3.5667\n",
      "Epoch 4/100\n",
      "\u001b[1m117/117\u001b[0m \u001b[32m━━━━━━━━━━━━━━━━━━━━\u001b[0m\u001b[37m\u001b[0m \u001b[1m1s\u001b[0m 9ms/step - accuracy: 0.1227 - loss: 3.6215 - val_accuracy: 0.1335 - val_loss: 3.5368\n",
      "Epoch 5/100\n",
      "\u001b[1m117/117\u001b[0m \u001b[32m━━━━━━━━━━━━━━━━━━━━\u001b[0m\u001b[37m\u001b[0m \u001b[1m1s\u001b[0m 9ms/step - accuracy: 0.1364 - loss: 3.5743 - val_accuracy: 0.1335 - val_loss: 3.5227\n",
      "Examining case:  14 12 200 0.1 relu 0.0001\n",
      "Epoch 1/100\n",
      "\u001b[1m117/117\u001b[0m \u001b[32m━━━━━━━━━━━━━━━━━━━━\u001b[0m\u001b[37m\u001b[0m \u001b[1m8s\u001b[0m 15ms/step - accuracy: 0.0613 - loss: 4.1570 - val_accuracy: 0.1368 - val_loss: 3.2008\n",
      "Epoch 2/100\n",
      "\u001b[1m117/117\u001b[0m \u001b[32m━━━━━━━━━━━━━━━━━━━━\u001b[0m\u001b[37m\u001b[0m \u001b[1m2s\u001b[0m 13ms/step - accuracy: 0.1756 - loss: 3.1727 - val_accuracy: 0.3323 - val_loss: 2.6425\n",
      "Epoch 3/100\n",
      "\u001b[1m117/117\u001b[0m \u001b[32m━━━━━━━━━━━━━━━━━━━━\u001b[0m\u001b[37m\u001b[0m \u001b[1m2s\u001b[0m 13ms/step - accuracy: 0.2969 - loss: 2.7057 - val_accuracy: 0.3590 - val_loss: 2.2222\n",
      "Epoch 4/100\n",
      "\u001b[1m117/117\u001b[0m \u001b[32m━━━━━━━━━━━━━━━━━━━━\u001b[0m\u001b[37m\u001b[0m \u001b[1m2s\u001b[0m 13ms/step - accuracy: 0.3849 - loss: 2.2668 - val_accuracy: 0.4647 - val_loss: 1.8892\n",
      "Epoch 5/100\n",
      "\u001b[1m117/117\u001b[0m \u001b[32m━━━━━━━━━━━━━━━━━━━━\u001b[0m\u001b[37m\u001b[0m \u001b[1m1s\u001b[0m 12ms/step - accuracy: 0.4474 - loss: 2.0640 - val_accuracy: 0.5513 - val_loss: 1.6786\n",
      "Examining case:  15 12 200 0.1 sigmoid 0.0001\n",
      "Epoch 1/100\n",
      "\u001b[1m117/117\u001b[0m \u001b[32m━━━━━━━━━━━━━━━━━━━━\u001b[0m\u001b[37m\u001b[0m \u001b[1m9s\u001b[0m 15ms/step - accuracy: 0.0230 - loss: 4.3343 - val_accuracy: 0.1335 - val_loss: 3.6458\n",
      "Epoch 2/100\n",
      "\u001b[1m117/117\u001b[0m \u001b[32m━━━━━━━━━━━━━━━━━━━━\u001b[0m\u001b[37m\u001b[0m \u001b[1m2s\u001b[0m 13ms/step - accuracy: 0.1370 - loss: 3.6171 - val_accuracy: 0.1335 - val_loss: 3.5345\n",
      "Epoch 3/100\n",
      "\u001b[1m117/117\u001b[0m \u001b[32m━━━━━━━━━━━━━━━━━━━━\u001b[0m\u001b[37m\u001b[0m \u001b[1m2s\u001b[0m 13ms/step - accuracy: 0.1319 - loss: 3.5617 - val_accuracy: 0.1335 - val_loss: 3.5239\n",
      "Epoch 4/100\n",
      "\u001b[1m117/117\u001b[0m \u001b[32m━━━━━━━━━━━━━━━━━━━━\u001b[0m\u001b[37m\u001b[0m \u001b[1m1s\u001b[0m 12ms/step - accuracy: 0.1373 - loss: 3.5132 - val_accuracy: 0.1335 - val_loss: 3.5164\n",
      "Epoch 5/100\n",
      "\u001b[1m117/117\u001b[0m \u001b[32m━━━━━━━━━━━━━━━━━━━━\u001b[0m\u001b[37m\u001b[0m \u001b[1m1s\u001b[0m 11ms/step - accuracy: 0.1382 - loss: 3.5687 - val_accuracy: 0.1335 - val_loss: 3.5135\n",
      "Examining case:  16 12 300 0.1 relu 0.0001\n",
      "Epoch 1/100\n",
      "\u001b[1m117/117\u001b[0m \u001b[32m━━━━━━━━━━━━━━━━━━━━\u001b[0m\u001b[37m\u001b[0m \u001b[1m9s\u001b[0m 17ms/step - accuracy: 0.0894 - loss: 3.9766 - val_accuracy: 0.2393 - val_loss: 2.9311\n",
      "Epoch 2/100\n",
      "\u001b[1m117/117\u001b[0m \u001b[32m━━━━━━━━━━━━━━━━━━━━\u001b[0m\u001b[37m\u001b[0m \u001b[1m2s\u001b[0m 14ms/step - accuracy: 0.2652 - loss: 2.8672 - val_accuracy: 0.4049 - val_loss: 2.1524\n",
      "Epoch 3/100\n",
      "\u001b[1m117/117\u001b[0m \u001b[32m━━━━━━━━━━━━━━━━━━━━\u001b[0m\u001b[37m\u001b[0m \u001b[1m2s\u001b[0m 15ms/step - accuracy: 0.4226 - loss: 2.1753 - val_accuracy: 0.5801 - val_loss: 1.6061\n",
      "Epoch 4/100\n",
      "\u001b[1m117/117\u001b[0m \u001b[32m━━━━━━━━━━━━━━━━━━━━\u001b[0m\u001b[37m\u001b[0m \u001b[1m2s\u001b[0m 17ms/step - accuracy: 0.5322 - loss: 1.7727 - val_accuracy: 0.6282 - val_loss: 1.3215\n",
      "Epoch 5/100\n",
      "\u001b[1m117/117\u001b[0m \u001b[32m━━━━━━━━━━━━━━━━━━━━\u001b[0m\u001b[37m\u001b[0m \u001b[1m2s\u001b[0m 14ms/step - accuracy: 0.5921 - loss: 1.4772 - val_accuracy: 0.6560 - val_loss: 1.2051\n",
      "Examining case:  17 12 300 0.1 sigmoid 0.0001\n",
      "Epoch 1/100\n",
      "\u001b[1m117/117\u001b[0m \u001b[32m━━━━━━━━━━━━━━━━━━━━\u001b[0m\u001b[37m\u001b[0m \u001b[1m8s\u001b[0m 17ms/step - accuracy: 0.0743 - loss: 4.0961 - val_accuracy: 0.1335 - val_loss: 3.5460\n",
      "Epoch 2/100\n",
      "\u001b[1m117/117\u001b[0m \u001b[32m━━━━━━━━━━━━━━━━━━━━\u001b[0m\u001b[37m\u001b[0m \u001b[1m2s\u001b[0m 14ms/step - accuracy: 0.1266 - loss: 3.5523 - val_accuracy: 0.1335 - val_loss: 3.5167\n",
      "Epoch 3/100\n",
      "\u001b[1m117/117\u001b[0m \u001b[32m━━━━━━━━━━━━━━━━━━━━\u001b[0m\u001b[37m\u001b[0m \u001b[1m2s\u001b[0m 14ms/step - accuracy: 0.1324 - loss: 3.5524 - val_accuracy: 0.1335 - val_loss: 3.5175\n",
      "Epoch 4/100\n",
      "\u001b[1m117/117\u001b[0m \u001b[32m━━━━━━━━━━━━━━━━━━━━\u001b[0m\u001b[37m\u001b[0m \u001b[1m2s\u001b[0m 14ms/step - accuracy: 0.1437 - loss: 3.5094 - val_accuracy: 0.1335 - val_loss: 3.5157\n",
      "Epoch 5/100\n",
      "\u001b[1m117/117\u001b[0m \u001b[32m━━━━━━━━━━━━━━━━━━━━\u001b[0m\u001b[37m\u001b[0m \u001b[1m2s\u001b[0m 15ms/step - accuracy: 0.1484 - loss: 3.5212 - val_accuracy: 0.1335 - val_loss: 3.5109\n",
      "Best model\n",
      "<Sequential name=sequential, built=True>\n"
     ]
    }
   ],
   "source": [
    "set_epochs = [ 100 ]\n",
    "set_layers = [ 3, 6, 12 ]\n",
    "set_neurons_per_layer = [100, 200, 300]\n",
    "set_drop_out = [ 0.1 ]\n",
    "set_activ = [\"relu\", \"sigmoid\"]\n",
    "set_learning_rate = [0.0001]\n",
    "\n",
    "callback = tf.keras.callbacks.EarlyStopping(monitor='val_loss', min_delta=0, patience=5, verbose=0)\n",
    "\n",
    "best_accuracy = None\n",
    "best_model = None\n",
    "best_history = None\n",
    "\n",
    "i = 0\n",
    "for epochs in set_epochs:\n",
    "    for layers in set_layers:\n",
    "        for neurons_per_layer in set_neurons_per_layer:\n",
    "            for drop_out in set_drop_out:\n",
    "                for f in set_activ:\n",
    "                    for lr in set_learning_rate:\n",
    "                        print(\"Examining case: \", i, layers, neurons_per_layer, drop_out, f, lr)\n",
    "                        model = CreateNeuralNetwork(genes, labels_count, layers, neurons_per_layer, drop_out, f, lr, False)\n",
    "\n",
    "                        history = model.fit(x_train, y_train, epochs=epochs, validation_data=(x_test, y_test), callbacks=callback)\n",
    "\n",
    "                        # train_accuracy = history.history['accuracy'][-1]\n",
    "                        val_accuracy = history.history['val_accuracy'][-1]\n",
    "\n",
    "                        if best_model == None or val_accuracy > best_accuracy:\n",
    "                            best_model = model\n",
    "                            best_accuracy = val_accuracy\n",
    "                            best_history = history\n",
    "\n",
    "                        i=i+1\n",
    "\n",
    "print(\"Best model\")\n",
    "print(best_model)"
   ]
  },
  {
   "cell_type": "markdown",
   "metadata": {},
   "source": [
    "Evaluate the best model:"
   ]
  },
  {
   "cell_type": "code",
   "execution_count": 11,
   "metadata": {},
   "outputs": [
    {
     "name": "stdout",
     "output_type": "stream",
     "text": [
      "\u001b[1m30/30\u001b[0m \u001b[32m━━━━━━━━━━━━━━━━━━━━\u001b[0m\u001b[37m\u001b[0m \u001b[1m0s\u001b[0m 2ms/step - accuracy: 0.9161 - loss: 0.2551\n",
      "0.24446527659893036\n"
     ]
    }
   ],
   "source": [
    "loss, accuracy = best_model.evaluate(x_test, y_test)\n",
    "\n",
    "print(loss)"
   ]
  },
  {
   "cell_type": "markdown",
   "metadata": {},
   "source": [
    "Save to disk:"
   ]
  },
  {
   "cell_type": "code",
   "execution_count": 12,
   "metadata": {},
   "outputs": [
    {
     "name": "stderr",
     "output_type": "stream",
     "text": [
      "WARNING:absl:You are saving your model as an HDF5 file via `model.save()` or `keras.saving.save_model(model)`. This file format is considered legacy. We recommend using instead the native Keras format, e.g. `model.save('my_model.keras')` or `keras.saving.save_model(model, 'my_model.keras')`. \n"
     ]
    }
   ],
   "source": [
    "best_model.save(\"../models/nn.h5\")"
   ]
  },
  {
   "cell_type": "markdown",
   "metadata": {},
   "source": [
    "Calculate precision & recall:"
   ]
  },
  {
   "cell_type": "code",
   "execution_count": 13,
   "metadata": {},
   "outputs": [
    {
     "name": "stdout",
     "output_type": "stream",
     "text": [
      "\u001b[1m30/30\u001b[0m \u001b[32m━━━━━━━━━━━━━━━━━━━━\u001b[0m\u001b[37m\u001b[0m \u001b[1m0s\u001b[0m 5ms/step\n",
      "                          precision    recall  f1-score   support\n",
      "\n",
      "   Astro L1-2 FGFR3 GFAP       1.00      1.00      1.00         3\n",
      "Astro L1-6 FGFR3 SLC14A1       1.00      1.00      1.00        11\n",
      "       Endo L2-6 NOSTRIN       0.00      0.00      0.00         0\n",
      "        Exc L2 LAMP5 LTK       0.83      0.91      0.87        47\n",
      "Exc L2-3 LINC00507 FREM3       0.94      0.93      0.94       125\n",
      "Exc L2-4 LINC00507 GLP2R       0.92      0.85      0.88        13\n",
      "   Exc L3-4 RORB CARM1P1       0.94      0.89      0.91        18\n",
      "   Exc L3-5 RORB COL22A1       0.90      0.90      0.90        10\n",
      "      Exc L3-5 RORB ESR1       0.99      1.00      0.99        89\n",
      "   Exc L3-5 RORB FILIP1L       0.82      0.82      0.82        17\n",
      "    Exc L3-5 RORB TWIST2       1.00      0.33      0.50         3\n",
      "    Exc L4-5 FEZF2 SCN4B       0.00      0.00      0.00         1\n",
      "     Exc L4-5 RORB DAPK2       1.00      0.85      0.92        13\n",
      "    Exc L4-5 RORB FOLH1B       1.00      0.92      0.96        60\n",
      "     Exc L4-6 FEZF2 IL26       1.00      1.00      1.00        23\n",
      "       Exc L4-6 RORB C1R       0.89      1.00      0.94         8\n",
      "    Exc L4-6 RORB SEMA3E       0.91      1.00      0.95        48\n",
      "      Exc L5-6 FEZF2 ABO       1.00      1.00      1.00        21\n",
      " Exc L5-6 FEZF2 EFTUD1P1       0.96      1.00      0.98        24\n",
      "     Exc L5-6 RORB TTC12       0.92      0.85      0.88        13\n",
      "   Exc L5-6 SLC17A7 IL15       1.00      1.00      1.00         1\n",
      "   Exc L5-6 THEMIS C1QL3       0.97      0.99      0.98        96\n",
      "  Exc L5-6 THEMIS CRABP1       0.83      0.83      0.83         6\n",
      " Exc L5-6 THEMIS DCSTAMP       0.00      0.00      0.00         1\n",
      "   Exc L5-6 THEMIS FGF10       0.80      0.67      0.73         6\n",
      "      Exc L6 FEZF2 OR2T8       0.00      0.00      0.00         0\n",
      "     Exc L6 FEZF2 SCUBE1       1.00      1.00      1.00         3\n",
      "       Inh L1 SST CHRNA4       0.33      0.25      0.29         4\n",
      "         Inh L1 SST NMBR       1.00      1.00      1.00        14\n",
      "      Inh L1-2 GAD1 MC4R       0.62      0.83      0.71         6\n",
      "      Inh L1-2 LAMP5 DBP       0.00      0.00      0.00         0\n",
      "     Inh L1-2 PAX6 CDH12       0.75      1.00      0.86         6\n",
      " Inh L1-2 PAX6 TNFAIP8L3       0.00      0.00      0.00         3\n",
      "      Inh L1-2 SST BAGE2       0.83      0.71      0.77         7\n",
      "        Inh L1-2 VIP LBH       0.75      0.75      0.75         4\n",
      "     Inh L1-2 VIP PCDH20       0.00      0.00      0.00         0\n",
      "    Inh L1-2 VIP TSPAN12       0.00      0.00      0.00         1\n",
      "      Inh L1-3 PAX6 SYT6       0.00      0.00      0.00         0\n",
      "      Inh L1-3 SST CALB1       0.89      1.00      0.94        16\n",
      "   Inh L1-3 VIP ADAMTSL1       0.75      1.00      0.86         3\n",
      "    Inh L1-3 VIP CCDC184       0.75      0.75      0.75         4\n",
      "      Inh L1-3 VIP CHRM2       0.85      0.85      0.85        13\n",
      "        Inh L1-3 VIP GGH       0.88      0.78      0.82         9\n",
      "     Inh L1-4 LAMP5 LCP2       1.00      1.00      1.00        20\n",
      "     Inh L1-4 VIP CHRNA6       0.00      0.00      0.00         0\n",
      "      Inh L1-4 VIP OPRM1       1.00      0.75      0.86         4\n",
      "       Inh L1-4 VIP PENK       0.00      0.00      0.00         0\n",
      "      Inh L2-3 VIP CASC6       0.50      0.33      0.40         3\n",
      "    Inh L2-4 PVALB WFDC2       0.77      1.00      0.87        17\n",
      "       Inh L2-4 SST FRZB       0.50      0.25      0.33         4\n",
      "      Inh L2-4 VIP CBLN1       0.75      1.00      0.86         3\n",
      "     Inh L2-4 VIP SPAG17       1.00      1.00      1.00         1\n",
      "   Inh L2-5 PVALB SCUBE3       0.00      0.00      0.00         1\n",
      "   Inh L2-5 VIP SERPINF1       1.00      0.50      0.67         2\n",
      "        Inh L2-5 VIP TYR       1.00      1.00      1.00         1\n",
      "      Inh L2-6 LAMP5 CA1       1.00      1.00      1.00        11\n",
      "       Inh L2-6 VIP QPCT       0.33      0.50      0.40         2\n",
      "     Inh L3-5 SST ADGRG6       0.88      0.88      0.88         8\n",
      "       Inh L3-6 SST HPGD       1.00      0.50      0.67         4\n",
      "        Inh L3-6 SST NPY       0.00      0.00      0.00         1\n",
      "   Inh L3-6 VIP HS3ST3A1       0.60      0.75      0.67         4\n",
      "     Inh L4-5 PVALB MEPE       1.00      0.60      0.75         5\n",
      "     Inh L4-5 SST STK32A       1.00      0.71      0.83         7\n",
      "    Inh L4-6 PVALB SULF1       0.73      0.80      0.76        10\n",
      "     Inh L4-6 SST B3GAT2       0.79      1.00      0.88        11\n",
      "     Inh L4-6 SST GXYLT2       0.43      1.00      0.60         3\n",
      "     Inh L5-6 GAD1 GLP1R       0.00      0.00      0.00         0\n",
      "     Inh L5-6 PVALB LGR5       0.71      1.00      0.83         5\n",
      "    Inh L5-6 SST KLHDC8A       1.00      1.00      1.00         3\n",
      "   Inh L5-6 SST MIR548F2       1.00      0.75      0.86         4\n",
      "    Inh L5-6 SST NPM1P10       1.00      0.60      0.75        10\n",
      "         Inh L5-6 SST TH       1.00      1.00      1.00         3\n",
      "       Micro L1-3 TYROBP       1.00      1.00      1.00         1\n",
      "         OPC L1-6 PDGFRA       1.00      1.00      1.00        20\n",
      "       Oligo L1-6 OPALIN       1.00      1.00      1.00        18\n",
      "\n",
      "               micro avg       0.92      0.92      0.92       936\n",
      "               macro avg       0.71      0.69      0.69       936\n",
      "            weighted avg       0.92      0.92      0.91       936\n",
      "\n"
     ]
    },
    {
     "name": "stderr",
     "output_type": "stream",
     "text": [
      "c:\\Users\\maria\\anaconda3\\Lib\\site-packages\\sklearn\\metrics\\_classification.py:1469: UndefinedMetricWarning: Precision and F-score are ill-defined and being set to 0.0 in labels with no predicted samples. Use `zero_division` parameter to control this behavior.\n",
      "  _warn_prf(average, modifier, msg_start, len(result))\n",
      "c:\\Users\\maria\\anaconda3\\Lib\\site-packages\\sklearn\\metrics\\_classification.py:1469: UndefinedMetricWarning: Recall and F-score are ill-defined and being set to 0.0 in labels with no true samples. Use `zero_division` parameter to control this behavior.\n",
      "  _warn_prf(average, modifier, msg_start, len(result))\n",
      "c:\\Users\\maria\\anaconda3\\Lib\\site-packages\\sklearn\\metrics\\_classification.py:1469: UndefinedMetricWarning: Precision and F-score are ill-defined and being set to 0.0 in labels with no predicted samples. Use `zero_division` parameter to control this behavior.\n",
      "  _warn_prf(average, modifier, msg_start, len(result))\n",
      "c:\\Users\\maria\\anaconda3\\Lib\\site-packages\\sklearn\\metrics\\_classification.py:1469: UndefinedMetricWarning: Recall and F-score are ill-defined and being set to 0.0 in labels with no true samples. Use `zero_division` parameter to control this behavior.\n",
      "  _warn_prf(average, modifier, msg_start, len(result))\n",
      "c:\\Users\\maria\\anaconda3\\Lib\\site-packages\\sklearn\\metrics\\_classification.py:1469: UndefinedMetricWarning: Precision and F-score are ill-defined and being set to 0.0 in labels with no predicted samples. Use `zero_division` parameter to control this behavior.\n",
      "  _warn_prf(average, modifier, msg_start, len(result))\n",
      "c:\\Users\\maria\\anaconda3\\Lib\\site-packages\\sklearn\\metrics\\_classification.py:1469: UndefinedMetricWarning: Recall and F-score are ill-defined and being set to 0.0 in labels with no true samples. Use `zero_division` parameter to control this behavior.\n",
      "  _warn_prf(average, modifier, msg_start, len(result))\n"
     ]
    }
   ],
   "source": [
    "predictions = np.argmax(best_model.predict(x_test), axis=-1)\n",
    "\n",
    "y_test_labels = np.argmax(y_test, axis=1) # One hot vextors to labels\n",
    "\n",
    "print(classification_report(y_test_labels, predictions, labels=np.arange(labels_count), target_names=label_encoder.classes_))"
   ]
  },
  {
   "cell_type": "code",
   "execution_count": 14,
   "metadata": {},
   "outputs": [
    {
     "data": {
      "text/plain": [
       "(0.0, 1.5)"
      ]
     },
     "execution_count": 14,
     "metadata": {},
     "output_type": "execute_result"
    },
    {
     "data": {
      "image/png": "[encoded data removed]",
      "text/plain": [
       "<Figure size 640x480 with 1 Axes>"
      ]
     },
     "metadata": {},
     "output_type": "display_data"
    }
   ],
   "source": [
    "ax = plt.figure().gca()\n",
    "plt.plot(best_history.history['loss'], label=\"Train Loss\")\n",
    "plt.plot(best_history.history['val_loss'], label=\"Val Loss\")\n",
    "plt.xlabel(\"Epoch\")\n",
    "plt.ylabel(\"Loss\")\n",
    "plt.title(\" Loss\")\n",
    "plt.legend(loc=\"best\")\n",
    "plt.ylim(0, 1.5)"
   ]
  },
  {
   "cell_type": "code",
   "execution_count": 15,
   "metadata": {},
   "outputs": [
    {
     "data": {
      "text/html": [
       "<pre style=\"white-space:pre;overflow-x:auto;line-height:normal;font-family:Menlo,'DejaVu Sans Mono',consolas,'Courier New',monospace\"><span style=\"font-weight: bold\">Model: \"sequential\"</span>\n",
       "</pre>\n"
      ],
      "text/plain": [
       "\u001b[1mModel: \"sequential\"\u001b[0m\n"
      ]
     },
     "metadata": {},
     "output_type": "display_data"
    },
    {
     "data": {
      "text/html": [
       "<pre style=\"white-space:pre;overflow-x:auto;line-height:normal;font-family:Menlo,'DejaVu Sans Mono',consolas,'Courier New',monospace\">┏━━━━━━━━━━━━━━━━━━━━━━━━━━━━━━━━━┳━━━━━━━━━━━━━━━━━━━━━━━━┳━━━━━━━━━━━━━━━┓\n",
       "┃<span style=\"font-weight: bold\"> Layer (type)                    </span>┃<span style=\"font-weight: bold\"> Output Shape           </span>┃<span style=\"font-weight: bold\">       Param # </span>┃\n",
       "┡━━━━━━━━━━━━━━━━━━━━━━━━━━━━━━━━━╇━━━━━━━━━━━━━━━━━━━━━━━━╇━━━━━━━━━━━━━━━┩\n",
       "│ dense (<span style=\"color: #0087ff; text-decoration-color: #0087ff\">Dense</span>)                   │ (<span style=\"color: #00d7ff; text-decoration-color: #00d7ff\">None</span>, <span style=\"color: #00af00; text-decoration-color: #00af00\">100</span>)            │        <span style=\"color: #00af00; text-decoration-color: #00af00\">13,900</span> │\n",
       "├─────────────────────────────────┼────────────────────────┼───────────────┤\n",
       "│ dropout (<span style=\"color: #0087ff; text-decoration-color: #0087ff\">Dropout</span>)               │ (<span style=\"color: #00d7ff; text-decoration-color: #00d7ff\">None</span>, <span style=\"color: #00af00; text-decoration-color: #00af00\">100</span>)            │             <span style=\"color: #00af00; text-decoration-color: #00af00\">0</span> │\n",
       "├─────────────────────────────────┼────────────────────────┼───────────────┤\n",
       "│ dense_1 (<span style=\"color: #0087ff; text-decoration-color: #0087ff\">Dense</span>)                 │ (<span style=\"color: #00d7ff; text-decoration-color: #00d7ff\">None</span>, <span style=\"color: #00af00; text-decoration-color: #00af00\">100</span>)            │        <span style=\"color: #00af00; text-decoration-color: #00af00\">10,100</span> │\n",
       "├─────────────────────────────────┼────────────────────────┼───────────────┤\n",
       "│ dropout_1 (<span style=\"color: #0087ff; text-decoration-color: #0087ff\">Dropout</span>)             │ (<span style=\"color: #00d7ff; text-decoration-color: #00d7ff\">None</span>, <span style=\"color: #00af00; text-decoration-color: #00af00\">100</span>)            │             <span style=\"color: #00af00; text-decoration-color: #00af00\">0</span> │\n",
       "├─────────────────────────────────┼────────────────────────┼───────────────┤\n",
       "│ dense_2 (<span style=\"color: #0087ff; text-decoration-color: #0087ff\">Dense</span>)                 │ (<span style=\"color: #00d7ff; text-decoration-color: #00d7ff\">None</span>, <span style=\"color: #00af00; text-decoration-color: #00af00\">100</span>)            │        <span style=\"color: #00af00; text-decoration-color: #00af00\">10,100</span> │\n",
       "├─────────────────────────────────┼────────────────────────┼───────────────┤\n",
       "│ dropout_2 (<span style=\"color: #0087ff; text-decoration-color: #0087ff\">Dropout</span>)             │ (<span style=\"color: #00d7ff; text-decoration-color: #00d7ff\">None</span>, <span style=\"color: #00af00; text-decoration-color: #00af00\">100</span>)            │             <span style=\"color: #00af00; text-decoration-color: #00af00\">0</span> │\n",
       "├─────────────────────────────────┼────────────────────────┼───────────────┤\n",
       "│ dense_3 (<span style=\"color: #0087ff; text-decoration-color: #0087ff\">Dense</span>)                 │ (<span style=\"color: #00d7ff; text-decoration-color: #00d7ff\">None</span>, <span style=\"color: #00af00; text-decoration-color: #00af00\">75</span>)             │         <span style=\"color: #00af00; text-decoration-color: #00af00\">7,575</span> │\n",
       "└─────────────────────────────────┴────────────────────────┴───────────────┘\n",
       "</pre>\n"
      ],
      "text/plain": [
       "┏━━━━━━━━━━━━━━━━━━━━━━━━━━━━━━━━━┳━━━━━━━━━━━━━━━━━━━━━━━━┳━━━━━━━━━━━━━━━┓\n",
       "┃\u001b[1m \u001b[0m\u001b[1mLayer (type)                   \u001b[0m\u001b[1m \u001b[0m┃\u001b[1m \u001b[0m\u001b[1mOutput Shape          \u001b[0m\u001b[1m \u001b[0m┃\u001b[1m \u001b[0m\u001b[1m      Param #\u001b[0m\u001b[1m \u001b[0m┃\n",
       "┡━━━━━━━━━━━━━━━━━━━━━━━━━━━━━━━━━╇━━━━━━━━━━━━━━━━━━━━━━━━╇━━━━━━━━━━━━━━━┩\n",
       "│ dense (\u001b[38;5;33mDense\u001b[0m)                   │ (\u001b[38;5;45mNone\u001b[0m, \u001b[38;5;34m100\u001b[0m)            │        \u001b[38;5;34m13,900\u001b[0m │\n",
       "├─────────────────────────────────┼────────────────────────┼───────────────┤\n",
       "│ dropout (\u001b[38;5;33mDropout\u001b[0m)               │ (\u001b[38;5;45mNone\u001b[0m, \u001b[38;5;34m100\u001b[0m)            │             \u001b[38;5;34m0\u001b[0m │\n",
       "├─────────────────────────────────┼────────────────────────┼───────────────┤\n",
       "│ dense_1 (\u001b[38;5;33mDense\u001b[0m)                 │ (\u001b[38;5;45mNone\u001b[0m, \u001b[38;5;34m100\u001b[0m)            │        \u001b[38;5;34m10,100\u001b[0m │\n",
       "├─────────────────────────────────┼────────────────────────┼───────────────┤\n",
       "│ dropout_1 (\u001b[38;5;33mDropout\u001b[0m)             │ (\u001b[38;5;45mNone\u001b[0m, \u001b[38;5;34m100\u001b[0m)            │             \u001b[38;5;34m0\u001b[0m │\n",
       "├─────────────────────────────────┼────────────────────────┼───────────────┤\n",
       "│ dense_2 (\u001b[38;5;33mDense\u001b[0m)                 │ (\u001b[38;5;45mNone\u001b[0m, \u001b[38;5;34m100\u001b[0m)            │        \u001b[38;5;34m10,100\u001b[0m │\n",
       "├─────────────────────────────────┼────────────────────────┼───────────────┤\n",
       "│ dropout_2 (\u001b[38;5;33mDropout\u001b[0m)             │ (\u001b[38;5;45mNone\u001b[0m, \u001b[38;5;34m100\u001b[0m)            │             \u001b[38;5;34m0\u001b[0m │\n",
       "├─────────────────────────────────┼────────────────────────┼───────────────┤\n",
       "│ dense_3 (\u001b[38;5;33mDense\u001b[0m)                 │ (\u001b[38;5;45mNone\u001b[0m, \u001b[38;5;34m75\u001b[0m)             │         \u001b[38;5;34m7,575\u001b[0m │\n",
       "└─────────────────────────────────┴────────────────────────┴───────────────┘\n"
      ]
     },
     "metadata": {},
     "output_type": "display_data"
    },
    {
     "data": {
      "text/html": [
       "<pre style=\"white-space:pre;overflow-x:auto;line-height:normal;font-family:Menlo,'DejaVu Sans Mono',consolas,'Courier New',monospace\"><span style=\"font-weight: bold\"> Total params: </span><span style=\"color: #00af00; text-decoration-color: #00af00\">125,027</span> (488.39 KB)\n",
       "</pre>\n"
      ],
      "text/plain": [
       "\u001b[1m Total params: \u001b[0m\u001b[38;5;34m125,027\u001b[0m (488.39 KB)\n"
      ]
     },
     "metadata": {},
     "output_type": "display_data"
    },
    {
     "data": {
      "text/html": [
       "<pre style=\"white-space:pre;overflow-x:auto;line-height:normal;font-family:Menlo,'DejaVu Sans Mono',consolas,'Courier New',monospace\"><span style=\"font-weight: bold\"> Trainable params: </span><span style=\"color: #00af00; text-decoration-color: #00af00\">41,675</span> (162.79 KB)\n",
       "</pre>\n"
      ],
      "text/plain": [
       "\u001b[1m Trainable params: \u001b[0m\u001b[38;5;34m41,675\u001b[0m (162.79 KB)\n"
      ]
     },
     "metadata": {},
     "output_type": "display_data"
    },
    {
     "data": {
      "text/html": [
       "<pre style=\"white-space:pre;overflow-x:auto;line-height:normal;font-family:Menlo,'DejaVu Sans Mono',consolas,'Courier New',monospace\"><span style=\"font-weight: bold\"> Non-trainable params: </span><span style=\"color: #00af00; text-decoration-color: #00af00\">0</span> (0.00 B)\n",
       "</pre>\n"
      ],
      "text/plain": [
       "\u001b[1m Non-trainable params: \u001b[0m\u001b[38;5;34m0\u001b[0m (0.00 B)\n"
      ]
     },
     "metadata": {},
     "output_type": "display_data"
    },
    {
     "data": {
      "text/html": [
       "<pre style=\"white-space:pre;overflow-x:auto;line-height:normal;font-family:Menlo,'DejaVu Sans Mono',consolas,'Courier New',monospace\"><span style=\"font-weight: bold\"> Optimizer params: </span><span style=\"color: #00af00; text-decoration-color: #00af00\">83,352</span> (325.60 KB)\n",
       "</pre>\n"
      ],
      "text/plain": [
       "\u001b[1m Optimizer params: \u001b[0m\u001b[38;5;34m83,352\u001b[0m (325.60 KB)\n"
      ]
     },
     "metadata": {},
     "output_type": "display_data"
    }
   ],
   "source": [
    "best_model.summary()"
   ]
  }
 ],
 "metadata": {
  "kernelspec": {
   "display_name": "Python 3",
   "language": "python",
   "name": "python3"
  },
  "language_info": {
   "codemirror_mode": {
    "name": "ipython",
    "version": 3
   },
   "file_extension": ".py",
   "mimetype": "text/x-python",
   "name": "python",
   "nbconvert_exporter": "python",
   "pygments_lexer": "ipython3",
   "version": "3.11.5"
  }
 },
 "nbformat": 4,
 "nbformat_minor": 2
}
